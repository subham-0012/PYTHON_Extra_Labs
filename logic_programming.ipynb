{
 "cells": [
  {
   "cell_type": "code",
   "execution_count": 2,
   "id": "502e821a",
   "metadata": {},
   "outputs": [
    {
     "name": "stdout",
     "output_type": "stream",
     "text": [
      "Requirement already satisfied: pyDatalog in c:\\users\\hp\\appdata\\local\\programs\\python\\python39\\lib\\site-packages (0.17.1)Note: you may need to restart the kernel to use updated packages.\n",
      "\n"
     ]
    },
    {
     "name": "stderr",
     "output_type": "stream",
     "text": [
      "WARNING: You are using pip version 21.2.4; however, version 22.1.2 is available.\n",
      "You should consider upgrading via the 'c:\\Users\\HP\\AppData\\Local\\Programs\\Python\\Python39\\python.exe -m pip install --upgrade pip' command.\n"
     ]
    }
   ],
   "source": [
    "pip install pyDatalog\n"
   ]
  },
  {
   "cell_type": "code",
   "execution_count": 4,
   "id": "f9bd572e",
   "metadata": {},
   "outputs": [],
   "source": [
    "from pyDatalog import pyDatalog"
   ]
  },
  {
   "cell_type": "code",
   "execution_count": 6,
   "id": "7f5d2a3a",
   "metadata": {},
   "outputs": [
    {
     "name": "stdout",
     "output_type": "stream",
     "text": [
      "Dark and Big animals are --\n",
      "X   \n",
      "----\n",
      "Bear\n"
     ]
    }
   ],
   "source": [
    "pyDatalog.create_terms(\"Big\", \"Bear\", \"Elephant\", \"Small\", \"Cat\", \"Brown\", \"Black\", \"Gray\", \"Elephant\", \"X\", 'Y', \"Size\", \"Color\", \"Dark\")\n",
    "+Size(\"Bear\", \"Big\")\n",
    "+Size(\"Elephant\", \"Big\")\n",
    "+Size(\"Cat\", \"Small\")\n",
    "+Color(\"Bear\", \"Brown\")\n",
    "+Color(\"Cat\", \"Black\")\n",
    "+Color(\"Elephant\", \"gray\")\n",
    "Dark(X) <= (Color(X, \"Black\"))\n",
    "Dark(X) <= (Color(X, \"Brown\"))\n",
    "print(\"Dark and Big animals are --\")\n",
    "print(Dark(X) & Size(X, \"Big\"))"
   ]
  },
  {
   "cell_type": "code",
   "execution_count": 7,
   "id": "f2c306cf",
   "metadata": {},
   "outputs": [
    {
     "name": "stdout",
     "output_type": "stream",
     "text": [
      "Factorial of 5 is\n",
      "X  \n",
      "---\n",
      "120\n"
     ]
    }
   ],
   "source": [
    "from pyDatalog import pyDatalog\n",
    "pyDatalog.create_terms(\"X,Factorial\")\n",
    "Factorial[X]=X*Factorial[X-1]\n",
    "Factorial[1]=1\n",
    "n = int(input(\"Enter a number : \"))\n",
    "print(f\"Factorial of {n} is\")\n",
    "print(Factorial[n]==X)\n"
   ]
  }
 ],
 "metadata": {
  "kernelspec": {
   "display_name": "Python 3.9.6 64-bit",
   "language": "python",
   "name": "python3"
  },
  "language_info": {
   "codemirror_mode": {
    "name": "ipython",
    "version": 3
   },
   "file_extension": ".py",
   "mimetype": "text/x-python",
   "name": "python",
   "nbconvert_exporter": "python",
   "pygments_lexer": "ipython3",
   "version": "3.9.6"
  },
  "vscode": {
   "interpreter": {
    "hash": "f6246b25e200e4c5124e3e61789ac81350562f0761bbcf92ad9e48654207659c"
   }
  }
 },
 "nbformat": 4,
 "nbformat_minor": 5
}
