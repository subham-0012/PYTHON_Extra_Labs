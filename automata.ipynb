{
 "cells": [
  {
   "cell_type": "code",
   "execution_count": 2,
   "id": "dab6cbe6",
   "metadata": {},
   "outputs": [
    {
     "name": "stdout",
     "output_type": "stream",
     "text": [
      "Requirement already satisfied: automata-lib in c:\\users\\hp\\appdata\\local\\programs\\python\\python39\\lib\\site-packages (5.0.0)\n",
      "Requirement already satisfied: pydot in c:\\users\\hp\\appdata\\local\\programs\\python\\python39\\lib\\site-packages (from automata-lib) (1.4.2)\n",
      "Requirement already satisfied: pyparsing>=2.1.4 in c:\\users\\hp\\appdata\\local\\programs\\python\\python39\\lib\\site-packages (from pydot->automata-lib) (3.0.9)\n",
      "Note: you may need to restart the kernel to use updated packages.\n"
     ]
    },
    {
     "name": "stderr",
     "output_type": "stream",
     "text": [
      "WARNING: You are using pip version 21.2.4; however, version 22.1.2 is available.\n",
      "You should consider upgrading via the 'c:\\Users\\HP\\AppData\\Local\\Programs\\Python\\Python39\\python.exe -m pip install --upgrade pip' command.\n"
     ]
    }
   ],
   "source": [
    "pip install automata-lib"
   ]
  },
  {
   "cell_type": "code",
   "execution_count": 1,
   "id": "2f6eb591",
   "metadata": {},
   "outputs": [],
   "source": [
    "from automata.fa.dfa import DFA\n",
    "dfa = DFA(\n",
    "    states={'q0', 'q1', 'q2', 'q3'},\n",
    "    input_symbols={'0','1'},\n",
    "    transitions={\n",
    "        'q0' : { '0' : 'q1' , '1' : 'q2' },\n",
    "        'q1' : { '0' : 'q3' , '1' : 'q2' },\n",
    "        'q2' : { '0' : 'q1' , '1' : 'q2' },\n",
    "        'q3' : { '0' : 'q3' , '1' : 'q3' }\n",
    "    },\n",
    "    initial_state='q0',\n",
    "    final_states={'q2','q1'}\n",
    ")"
   ]
  },
  {
   "cell_type": "code",
   "execution_count": 2,
   "id": "5099e6c5",
   "metadata": {},
   "outputs": [
    {
     "data": {
      "text/plain": [
       "'q1'"
      ]
     },
     "execution_count": 2,
     "metadata": {},
     "output_type": "execute_result"
    }
   ],
   "source": [
    "dfa.read_input('010')"
   ]
  },
  {
   "cell_type": "code",
   "execution_count": 6,
   "id": "f8cf8732",
   "metadata": {},
   "outputs": [],
   "source": [
    "from automata.fa.dfa import DFA\n",
    "dfa = DFA(\n",
    "    states={'q0', 'q1', 'q2', 'q3', 'q4'},\n",
    "    input_symbols={'0','1'},\n",
    "    transitions = {\n",
    "        'q0' : { '0' : 'q0' , '1' : 'q1' },\n",
    "        'q1' : { '0' : 'q4' , '1' : 'q2' },\n",
    "        'q2' : { '0' : 'q4' , '1' : 'q3' },\n",
    "        'q3' : { '0' : 'q3' , '1' : 'q1' },\n",
    "        'q4' : { '0' : 'q4' , '1' : 'q4' },\n",
    "    },\n",
    "    initial_state = 'q0',\n",
    "    final_states = {'q3'}\n",
    ")"
   ]
  },
  {
   "cell_type": "code",
   "execution_count": 7,
   "id": "f3a5c869",
   "metadata": {},
   "outputs": [
    {
     "data": {
      "text/plain": [
       "'q3'"
      ]
     },
     "execution_count": 7,
     "metadata": {},
     "output_type": "execute_result"
    }
   ],
   "source": [
    "dfa.read_input('0111111')"
   ]
  },
  {
   "cell_type": "code",
   "execution_count": 10,
   "id": "18367fa0",
   "metadata": {},
   "outputs": [],
   "source": [
    "from automata.fa.dfa import DFA\n",
    "dfa = DFA(\n",
    "    states={'q0','q1','q2','q3'},\n",
    "    input_symbols={'0','1'},\n",
    "    transitions = {\n",
    "        'q0' : { '0' : 'q1' , '1' : 'q2' },\n",
    "        'q1' : { '0' : 'q0' , '1' : 'q3' },\n",
    "        'q2' : { '0' : 'q3' , '1' : 'q0' },\n",
    "        'q3' : { '0' : 'q2' , '1' : 'q1' }\n",
    "    },\n",
    "    initial_state = 'q0',\n",
    "    final_states = {'q0'}\n",
    ")\n"
   ]
  },
  {
   "cell_type": "code",
   "execution_count": 11,
   "id": "7a72133e",
   "metadata": {},
   "outputs": [
    {
     "data": {
      "text/plain": [
       "'q0'"
      ]
     },
     "execution_count": 11,
     "metadata": {},
     "output_type": "execute_result"
    }
   ],
   "source": [
    "dfa.read_input('110011')"
   ]
  },
  {
   "cell_type": "code",
   "execution_count": 12,
   "id": "4e6efc6d",
   "metadata": {},
   "outputs": [
    {
     "data": {
      "text/plain": [
       "{'q0', 'q2', 'q3'}"
      ]
     },
     "execution_count": 12,
     "metadata": {},
     "output_type": "execute_result"
    }
   ],
   "source": [
    "from automata.fa.nfa import NFA\n",
    "nfa=NFA(\n",
    "    states={'q0','q1','q2','q3'},\n",
    "    input_symbols={'0','1'},\n",
    "    transitions={\n",
    "        'q0':{'0':{'q0','q1'},'1':{'q0','q3'}},\n",
    "        'q1':{'0':{'q2'}},\n",
    "        'q2':{'0':{'q2'},'1':{'q2'}},\n",
    "        'q3':{'1':{'q2'}}\n",
    "    },\n",
    "    initial_state='q0',\n",
    "    final_states={'q2'}\n",
    ")\n",
    "nfa.read_input('0011')"
   ]
  },
  {
   "cell_type": "code",
   "execution_count": 13,
   "id": "def55e44",
   "metadata": {},
   "outputs": [],
   "source": [
    "from automata.fa.nfa import NFA\n",
    "nfa=NFA(\n",
    "    states={'q0','q1','q2','q3','q4','q5'},\n",
    "    input_symbols={'0','1'},\n",
    "    transitions={\n",
    "        'q0':{'':{'q1','q3'}},\n",
    "        'q1':{'0':{'q2'},'1':{'q1'}},\n",
    "        'q2':{'0':{'q1'},'1':{'q2'}},\n",
    "        'q3':{'0':{'q3'},'1':{'q4'}},\n",
    "        'q4':{'1':{'q5'}},\n",
    "        'q5':{'1':{'q3'}}\n",
    "    },\n",
    "    initial_state='q0',\n",
    "    final_states={'q2','q4','q5'}\n",
    ")"
   ]
  },
  {
   "cell_type": "code",
   "execution_count": 18,
   "id": "0ae7bf3d",
   "metadata": {},
   "outputs": [
    {
     "data": {
      "text/plain": [
       "{'q1', 'q5'}"
      ]
     },
     "execution_count": 18,
     "metadata": {},
     "output_type": "execute_result"
    }
   ],
   "source": [
    "nfa.read_input('11')"
   ]
  }
 ],
 "metadata": {
  "kernelspec": {
   "display_name": "Python 3.9.6 64-bit",
   "language": "python",
   "name": "python3"
  },
  "language_info": {
   "codemirror_mode": {
    "name": "ipython",
    "version": 3
   },
   "file_extension": ".py",
   "mimetype": "text/x-python",
   "name": "python",
   "nbconvert_exporter": "python",
   "pygments_lexer": "ipython3",
   "version": "3.9.6"
  },
  "vscode": {
   "interpreter": {
    "hash": "f6246b25e200e4c5124e3e61789ac81350562f0761bbcf92ad9e48654207659c"
   }
  }
 },
 "nbformat": 4,
 "nbformat_minor": 5
}
